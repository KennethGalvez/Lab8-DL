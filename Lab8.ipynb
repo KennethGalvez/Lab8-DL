{
 "cells": [
  {
   "cell_type": "markdown",
   "metadata": {},
   "source": [
    "# Task 1"
   ]
  },
  {
   "cell_type": "code",
   "execution_count": 5,
   "metadata": {},
   "outputs": [],
   "source": [
    "#!pip install torch torchvision opencv-python numpy\n",
    "#!git clone https://github.com/ultralytics/yolov5.git\n",
    "#!cd yolov5\n",
    "#!pip install -U -r requirements.txt"
   ]
  },
  {
   "cell_type": "code",
   "execution_count": 10,
   "metadata": {},
   "outputs": [
    {
     "name": "stderr",
     "output_type": "stream",
     "text": [
      "Using cache found in C:\\Users\\kenic/.cache\\torch\\hub\\ultralytics_yolov5_master\n",
      "\u001b[31m\u001b[1mrequirements:\u001b[0m Ultralytics requirement ['setuptools>=65.5.1'] not found, attempting AutoUpdate...\n",
      "Requirement already satisfied: setuptools>=65.5.1 in c:\\users\\kenic\\anaconda3\\lib\\site-packages (68.2.2)\n",
      "\n",
      "\u001b[31m\u001b[1mrequirements:\u001b[0m AutoUpdate success  11.6s, installed 1 package: ['setuptools>=65.5.1']\n",
      "\u001b[31m\u001b[1mrequirements:\u001b[0m  \u001b[1mRestart runtime or rerun command for updates to take effect\u001b[0m\n",
      "\n",
      "YOLOv5  2023-10-7 Python-3.11.2 torch-2.1.0+cpu CPU\n",
      "\n",
      "Fusing layers... \n",
      "Model summary: 224 layers, 7266973 parameters, 0 gradients\n",
      "Adding AutoShape... \n"
     ]
    }
   ],
   "source": [
    "import cv2\n",
    "import torch\n",
    "import numpy as np\n",
    "\n",
    "# Cargar el modelo pre-entrenado\n",
    "model = torch.hub.load('ultralytics/yolov5', 'yolov5s')  # Descargar automáticamente el modelo yolov5s\n",
    "\n",
    "# Configurar la cámara\n",
    "cap = cv2.VideoCapture(0)  # Abre la cámara\n",
    "\n",
    "while True:\n",
    "    ret, frame = cap.read()  # Captura un cuadro de la cámara\n",
    "    if not ret:\n",
    "        break\n",
    "\n",
    "    # Realizar detección de objetos en el cuadro de la cámara\n",
    "    results = model(frame)\n",
    "\n",
    "    # Obtener las predicciones de detección\n",
    "    pred = results.pred[0]\n",
    "\n",
    "    # Filtrar detecciones con una confianza mínima\n",
    "    conf_threshold = 0.5\n",
    "    filtered_pred = pred[pred[:, 4] > conf_threshold]\n",
    "\n",
    "    # Dibujar cajas de detección en el cuadro de la cámara\n",
    "    for det in filtered_pred:\n",
    "        x1, y1, x2, y2, conf, class_id = det\n",
    "        label = model.names[int(class_id)]\n",
    "        color = (0, 255, 0)  # Color de la caja (verdesito)\n",
    "        cv2.rectangle(frame, (int(x1), int(y1)), (int(x2), int(y2)), color, 2)\n",
    "        cv2.putText(frame, f'{label}: {conf:.2f}', (int(x1), int(y1) - 10), cv2.FONT_HERSHEY_SIMPLEX, 0.5, color, 2)\n",
    "\n",
    "    # Mostrar el cuadro con las detecciones\n",
    "    cv2.imshow('YOLOv5 Object Detection', frame)\n",
    "\n",
    "    # Salir con la tecla 'q'\n",
    "    if cv2.waitKey(1) & 0xFF == ord('q'):\n",
    "        break\n",
    "\n",
    "cap.release()\n",
    "cv2.destroyAllWindows()\n"
   ]
  },
  {
   "cell_type": "markdown",
   "metadata": {},
   "source": [
    "a. ¿Encontró algún caso donde el modelo pareciera no tener un score aceptable? (Un score aceptable queda sujeto a su criterio) ¿Por qué cree que el score fue ese?\n",
    "\n",
    "Las pruebas se llevaron a cabo con los siguientes objetos: Pachon, telefono, manzana, control remoto y un mouse. Todos pasaron con un score aceptable de una media de 0.5 a excepcion del mouse que no supo identificar que era un mouse.\n",
    "El scope del mouse fue bajo por que el modelo confundio el objeto con otro objeto que se asemeja en forma o color, lo mismo siento que sucedio con el resto de objetos que no eran el mejor ejemplo del objeto que eran. (Por ejemplo un control rojo, etc.)\n",
    "\n",
    "b. Investigue qué mejoras se han hecho en cada versión de YOLO, y con esto responda ¿qué cree que podría hacerse para mejorarlo?\n",
    "    i. Consideren los avances que han habido hasta el momento (versión 7), vean qué ha cambiado y qué podría mejorar todavía\n",
    "\n",
    "Algunos avances que se han realizado en las versiones anteriores de YOLO incluyen mejoras en la velocidad de detección, precisión y capacidad para manejar objetos pequeños. Algunas mejoras podrían ser:\n",
    "\n",
    "- Mejoras en la detección de objetos pequeños.\n",
    "\n",
    "- Mejoras en la detección de objetos oscuros o poco visibles.\n",
    "\n",
    "- Mejoras en la detección de objetos en movimiento rápido.\n",
    "\n",
    "https://github.com/ultralytics/yolov5\n",
    "\n",
    "\n",
    "c. Escriba detalladamente cómo podría usar YOLO para poder realizar detección de objetos sobre un dataset propio, es decir, sobre algun problema totalmente nuevo para YOLO, por ejemplo, detección de puentes con imagenes satelitales.\n",
    "    i. Asegúrese de detallar cada paso que debería tomar\n",
    "\n",
    "Para usar YOLO para realizar detección de objetos en un dataset propio los pasos serian:\n",
    "\n",
    "- Adquirir un conjunto de datos que incluya imágenes relevantes para el problema de detección de puentes. Cada imagen debe estar etiquetada con las coordenadas de los objetos de interés en la imagen en este caso usando el satelite.\n",
    "\n",
    "- Convertir las etiquetas de las coordenadas de los objetos en un formato compatible con YOLO, que generalmente incluye el centro (x, y) de la caja delimitadora, el ancho y el alto de la caja, y la clase del objeto. En ese caso abria que considerar los escenarios azules que van a tener la mayoria de imagenes.\n",
    "\n",
    "- Dividir el conjunto de datos en conjuntos de entrenamiento, validación y prueba para entrenar, ajustar y evaluar el modelo.\n",
    "\n",
    "- Utilizar el conjunto de datos de entrenamiento para entrenar el modelo YOLO. \n",
    "\n",
    "- Utilizar el conjunto de datos de validación para ajustar los hiperparámetros y asegurarte de que el modelo esté aprendiendo de manera efectiva sin sobreajuste.\n",
    "\n",
    "- Utilizar el conjunto de datos de prueba para evaluar el rendimiento del modelo en la detección de objetos. C\n",
    "\n",
    "- Después de que el modelo se ajuste adecuadamente y tenga un rendimiento satisfactorio, seria de implementarlo en producción para la detección de puentes."
   ]
  }
 ],
 "metadata": {
  "kernelspec": {
   "display_name": "Python 3",
   "language": "python",
   "name": "python3"
  },
  "language_info": {
   "codemirror_mode": {
    "name": "ipython",
    "version": 3
   },
   "file_extension": ".py",
   "mimetype": "text/x-python",
   "name": "python",
   "nbconvert_exporter": "python",
   "pygments_lexer": "ipython3",
   "version": "3.11.2"
  }
 },
 "nbformat": 4,
 "nbformat_minor": 2
}
